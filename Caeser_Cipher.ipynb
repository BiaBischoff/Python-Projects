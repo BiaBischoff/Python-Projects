{
 "cells": [
  {
   "cell_type": "markdown",
   "id": "280a299c",
   "metadata": {},
   "source": [
    "# Caeser Cipher"
   ]
  },
  {
   "cell_type": "code",
   "execution_count": 18,
   "id": "26af55fb",
   "metadata": {},
   "outputs": [],
   "source": [
    "#This notebook is \"encrypting\" some text\n",
    "#We are adding 3 letters to an input text \"HELLO\" to encrypt it"
   ]
  },
  {
   "cell_type": "code",
   "execution_count": 19,
   "id": "b1478625",
   "metadata": {},
   "outputs": [],
   "source": [
    "alphabet = 'abcdefghijklmnopqrstuvwxyz'\n",
    "input_text = 'hello'"
   ]
  },
  {
   "cell_type": "code",
   "execution_count": 20,
   "id": "4b83328c",
   "metadata": {},
   "outputs": [
    {
     "name": "stdout",
     "output_type": "stream",
     "text": [
      "khoor\n"
     ]
    }
   ],
   "source": [
    "output = ''\n",
    "for char in input_text:\n",
    "    alpha_i = alphabet.find(char)\n",
    "    output = output + alphabet[alpha_i+3]\n",
    "print(output)"
   ]
  },
  {
   "cell_type": "markdown",
   "id": "87e19924",
   "metadata": {},
   "source": [
    "#### The last letter that our code works with is for letter \"U\" that becomes \"Z\". So what happens with letter \"V\"?"
   ]
  },
  {
   "cell_type": "code",
   "execution_count": 21,
   "id": "51091664",
   "metadata": {},
   "outputs": [],
   "source": [
    "def shift_amount(i):\n",
    "    'It takes in consideration the length of the alphabet'\n",
    "    return i%26"
   ]
  },
  {
   "cell_type": "markdown",
   "id": "abdbd3b3",
   "metadata": {},
   "source": [
    "#### Let's test with letters in the end of the alphabet:"
   ]
  },
  {
   "cell_type": "code",
   "execution_count": 22,
   "id": "0d05523c",
   "metadata": {},
   "outputs": [
    {
     "name": "stdout",
     "output_type": "stream",
     "text": [
      "khoor\n"
     ]
    }
   ],
   "source": [
    "output_1 = ''\n",
    "for char in input_text:\n",
    "    alpha_i = alphabet.find(char)\n",
    "    output_1 = output_1 + alphabet[shift_amount(alpha_i+3)]\n",
    "print(output)"
   ]
  },
  {
   "cell_type": "markdown",
   "id": "9ee6ad1c",
   "metadata": {},
   "source": [
    "#### Encrypting Function:"
   ]
  },
  {
   "cell_type": "code",
   "execution_count": 31,
   "id": "62733869",
   "metadata": {},
   "outputs": [],
   "source": [
    "def encrypt (input_text, required_shift):\n",
    "    out_string = ''\n",
    "    input_text = input_text.lower()\n",
    "    for char in input_text:\n",
    "        if char not in alphabet:\n",
    "            out_string = out_string + char\n",
    "        else:\n",
    "            alpha_i = alphabet.find(char)\n",
    "            out_string = out_string + alphabet[shift_amount(alpha_i+required_shift)]\n",
    "    return out_string"
   ]
  },
  {
   "cell_type": "code",
   "execution_count": 32,
   "id": "f673a940",
   "metadata": {},
   "outputs": [],
   "source": [
    "#Another example\n",
    "new_input_text = 'once upon'\n",
    "shift = encrypt(new_input_text,5)"
   ]
  },
  {
   "cell_type": "code",
   "execution_count": 33,
   "id": "e4bcdaf7",
   "metadata": {},
   "outputs": [
    {
     "data": {
      "text/plain": [
       "'tshj zuts'"
      ]
     },
     "execution_count": 33,
     "metadata": {},
     "output_type": "execute_result"
    }
   ],
   "source": [
    "shift"
   ]
  }
 ],
 "metadata": {
  "kernelspec": {
   "display_name": "Python 3",
   "language": "python",
   "name": "python3"
  },
  "language_info": {
   "codemirror_mode": {
    "name": "ipython",
    "version": 3
   },
   "file_extension": ".py",
   "mimetype": "text/x-python",
   "name": "python",
   "nbconvert_exporter": "python",
   "pygments_lexer": "ipython3",
   "version": "3.8.8"
  }
 },
 "nbformat": 4,
 "nbformat_minor": 5
}
