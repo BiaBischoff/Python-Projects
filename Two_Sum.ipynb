{
 "cells": [
  {
   "cell_type": "markdown",
   "id": "3e4744d4",
   "metadata": {},
   "source": [
    "# Two Sum"
   ]
  },
  {
   "cell_type": "markdown",
   "id": "a0b8cd79",
   "metadata": {},
   "source": [
    "#### In this project, the goal is to return the index of the numbers in the list that sum up to the target variable"
   ]
  },
  {
   "cell_type": "code",
   "execution_count": 5,
   "id": "fdeaf615",
   "metadata": {},
   "outputs": [],
   "source": [
    "#Given a determined list\n",
    "\n",
    "mylist = [2, 3, 5, 7, 9]\n",
    "target = 10"
   ]
  },
  {
   "cell_type": "code",
   "execution_count": 6,
   "id": "bf69ffb7",
   "metadata": {},
   "outputs": [],
   "source": [
    "def two_sum (mylist, target):\n",
    "    #starting with empty list\n",
    "    d = {}\n",
    "    for i in range(len(mylist)):\n",
    "        if target - mylist[i] in d:\n",
    "            #print the dictionary\n",
    "            print(d)\n",
    "            #add the number in the list and its index. D only stops if the target - mylist[i] belongs to d\n",
    "            return [d[target - mylist[i]], i]\n",
    "        #d is after the loop because we don't want to add the value twice to the list\n",
    "        #it return the last index (i) when (target - mylist[i]) belongs to d\n",
    "        d[mylist[i]] = i\n",
    "    return -1"
   ]
  },
  {
   "cell_type": "code",
   "execution_count": 7,
   "id": "64e990f0",
   "metadata": {},
   "outputs": [
    {
     "name": "stdout",
     "output_type": "stream",
     "text": [
      "{2: 0, 3: 1, 5: 2}\n",
      "[1, 3]\n"
     ]
    }
   ],
   "source": [
    "print(two_sum(mylist, target))"
   ]
  }
 ],
 "metadata": {
  "kernelspec": {
   "display_name": "Python 3",
   "language": "python",
   "name": "python3"
  },
  "language_info": {
   "codemirror_mode": {
    "name": "ipython",
    "version": 3
   },
   "file_extension": ".py",
   "mimetype": "text/x-python",
   "name": "python",
   "nbconvert_exporter": "python",
   "pygments_lexer": "ipython3",
   "version": "3.8.8"
  }
 },
 "nbformat": 4,
 "nbformat_minor": 5
}
