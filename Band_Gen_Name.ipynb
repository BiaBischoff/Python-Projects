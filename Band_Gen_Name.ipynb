{
 "cells": [
  {
   "cell_type": "markdown",
   "id": "b7f62c0b",
   "metadata": {},
   "source": [
    "#Band Name Generator"
   ]
  },
  {
   "cell_type": "code",
   "execution_count": 1,
   "id": "d6cf9ae4",
   "metadata": {},
   "outputs": [
    {
     "name": "stdout",
     "output_type": "stream",
     "text": [
      "Welcome to the Band Generator Game\n"
     ]
    }
   ],
   "source": [
    "print(\"Welcome to the Band Generator Game\")"
   ]
  },
  {
   "cell_type": "code",
   "execution_count": 2,
   "id": "0870ffbf",
   "metadata": {},
   "outputs": [
    {
     "name": "stdout",
     "output_type": "stream",
     "text": [
      "Which city were you born? \n",
      "Rio de Janeiro\n"
     ]
    }
   ],
   "source": [
    "c = input(\"Which city were you born? \\n\")"
   ]
  },
  {
   "cell_type": "code",
   "execution_count": 3,
   "id": "240ec5b0",
   "metadata": {},
   "outputs": [
    {
     "name": "stdout",
     "output_type": "stream",
     "text": [
      "What's your favorite pet's name?\n",
      "Rio\n"
     ]
    }
   ],
   "source": [
    "pet_name = input(\"What's your favorite pet's name?\\n\")"
   ]
  },
  {
   "cell_type": "code",
   "execution_count": 7,
   "id": "1a073e1d",
   "metadata": {},
   "outputs": [
    {
     "name": "stdout",
     "output_type": "stream",
     "text": [
      "According to this game your band name is: Rio de Janeiro Rio\n"
     ]
    }
   ],
   "source": [
    "print(\"According to this game your band name is: \" + city_born + \" \" + pet_name)"
   ]
  }
 ],
 "metadata": {
  "kernelspec": {
   "display_name": "Python 3",
   "language": "python",
   "name": "python3"
  },
  "language_info": {
   "codemirror_mode": {
    "name": "ipython",
    "version": 3
   },
   "file_extension": ".py",
   "mimetype": "text/x-python",
   "name": "python",
   "nbconvert_exporter": "python",
   "pygments_lexer": "ipython3",
   "version": "3.8.8"
  }
 },
 "nbformat": 4,
 "nbformat_minor": 5
}
