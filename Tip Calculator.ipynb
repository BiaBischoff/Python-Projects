{
 "cells": [
  {
   "cell_type": "markdown",
   "id": "85647b1b",
   "metadata": {},
   "source": [
    "#Tip Calculator"
   ]
  },
  {
   "cell_type": "code",
   "execution_count": 1,
   "id": "c7d141f3",
   "metadata": {},
   "outputs": [
    {
     "name": "stdout",
     "output_type": "stream",
     "text": [
      "Welcome to the tip calculator. What was the total bill? $200\n"
     ]
    }
   ],
   "source": [
    "#Total amount of the bill\n",
    "\n",
    "bill_total = input(\"Welcome to the tip calculator. What was the total bill? $\")"
   ]
  },
  {
   "cell_type": "code",
   "execution_count": 2,
   "id": "09dbf14a",
   "metadata": {},
   "outputs": [
    {
     "name": "stdout",
     "output_type": "stream",
     "text": [
      "How many people to split the bill?2\n"
     ]
    }
   ],
   "source": [
    "#Number of people\n",
    "\n",
    "guests_number = input(\"How many people to split the bill?\")"
   ]
  },
  {
   "cell_type": "code",
   "execution_count": 3,
   "id": "3b59cedf",
   "metadata": {},
   "outputs": [
    {
     "name": "stdout",
     "output_type": "stream",
     "text": [
      "What percentage would you like to tip? 20\n"
     ]
    }
   ],
   "source": [
    "#Percet desired to tip\n",
    "\n",
    "tip_percent = input(\"What percentage would you like to tip? \")"
   ]
  },
  {
   "cell_type": "code",
   "execution_count": 4,
   "id": "c79af1cd",
   "metadata": {},
   "outputs": [],
   "source": [
    "#Modifying numbers\n",
    "\n",
    "total_as_num= float(bill_total)\n",
    "num_people_as_num = int(guests_number)"
   ]
  },
  {
   "cell_type": "code",
   "execution_count": 5,
   "id": "8a002184",
   "metadata": {},
   "outputs": [],
   "source": [
    "#convert type\n",
    "\n",
    "tip_on_100 = int(tip_percent)/100+1"
   ]
  },
  {
   "cell_type": "code",
   "execution_count": 6,
   "id": "18435442",
   "metadata": {},
   "outputs": [
    {
     "name": "stdout",
     "output_type": "stream",
     "text": [
      "Each person should pay: $120.0.\n"
     ]
    }
   ],
   "source": [
    "#get the tip total\n",
    "\n",
    "total_per_person = (total_as_num/num_people_as_num)*tip_on_100\n",
    "what_to_pay= round(total_per_person,2)\n",
    "print(f\"Each person should pay: ${what_to_pay}.\")"
   ]
  },
  {
   "cell_type": "code",
   "execution_count": null,
   "id": "93bd2be4",
   "metadata": {},
   "outputs": [],
   "source": []
  }
 ],
 "metadata": {
  "kernelspec": {
   "display_name": "Python 3",
   "language": "python",
   "name": "python3"
  },
  "language_info": {
   "codemirror_mode": {
    "name": "ipython",
    "version": 3
   },
   "file_extension": ".py",
   "mimetype": "text/x-python",
   "name": "python",
   "nbconvert_exporter": "python",
   "pygments_lexer": "ipython3",
   "version": "3.8.8"
  }
 },
 "nbformat": 4,
 "nbformat_minor": 5
}
